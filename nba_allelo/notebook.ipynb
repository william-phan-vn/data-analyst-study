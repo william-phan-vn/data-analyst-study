{
 "cells": [
  {
   "cell_type": "code",
   "execution_count": 3,
   "id": "cafc1710",
   "metadata": {},
   "outputs": [],
   "source": [
    "import pandas as pd\n",
    "import requests"
   ]
  },
  {
   "cell_type": "code",
   "execution_count": 6,
   "id": "c6d6e6c4",
   "metadata": {},
   "outputs": [],
   "source": [
    "dataset_url = 'https://github.com/fivethirtyeight/data/blob/master/nba-elo/nbaallelo.csv'\n",
    "file_name = 'nbaallelo.csv'"
   ]
  },
  {
   "cell_type": "code",
   "execution_count": 3,
   "id": "7b36e9ed",
   "metadata": {},
   "outputs": [],
   "source": [
    "# data_response = requests.get(dataset_url)"
   ]
  },
  {
   "cell_type": "code",
   "execution_count": null,
   "id": "847350dc",
   "metadata": {
    "pycharm": {
     "is_executing": true
    }
   },
   "outputs": [],
   "source": [
    "# data_response.status_code"
   ]
  },
  {
   "cell_type": "code",
   "execution_count": 6,
   "id": "50d93f84",
   "metadata": {},
   "outputs": [],
   "source": [
    "# with open(file_name, 'wb') as f:\n",
    "#     f.write(data_response.content)"
   ]
  },
  {
   "cell_type": "code",
   "execution_count": 7,
   "id": "2273de59",
   "metadata": {},
   "outputs": [],
   "source": [
    "nba = pd.read_csv(file_name)"
   ]
  },
  {
   "cell_type": "code",
   "execution_count": 6,
   "outputs": [
    {
     "data": {
      "text/plain": "pandas.core.frame.DataFrame"
     },
     "execution_count": 6,
     "metadata": {},
     "output_type": "execute_result"
    }
   ],
   "source": [
    "type(nba)"
   ],
   "metadata": {
    "collapsed": false
   }
  },
  {
   "cell_type": "code",
   "execution_count": 7,
   "outputs": [
    {
     "data": {
      "text/plain": "126314"
     },
     "execution_count": 7,
     "metadata": {},
     "output_type": "execute_result"
    }
   ],
   "source": [
    "# Number of rows\n",
    "len(nba)"
   ],
   "metadata": {
    "collapsed": false
   }
  },
  {
   "cell_type": "code",
   "execution_count": 8,
   "outputs": [
    {
     "data": {
      "text/plain": "(126314, 23)"
     },
     "execution_count": 8,
     "metadata": {},
     "output_type": "execute_result"
    }
   ],
   "source": [
    "nba.shape"
   ],
   "metadata": {
    "collapsed": false
   }
  },
  {
   "cell_type": "code",
   "execution_count": 11,
   "outputs": [
    {
     "data": {
      "text/plain": "   gameorder       game_id lg_id  _iscopy  year_id  date_game  seasongame  \\\n0          1  194611010TRH   NBA        0     1947  11/1/1946           1   \n1          1  194611010TRH   NBA        1     1947  11/1/1946           1   \n2          2  194611020CHS   NBA        0     1947  11/2/1946           1   \n3          2  194611020CHS   NBA        1     1947  11/2/1946           2   \n4          3  194611020DTF   NBA        0     1947  11/2/1946           1   \n\n   is_playoffs team_id  fran_id  pts    elo_i    elo_n  win_equiv opp_id  \\\n0            0     TRH  Huskies   66  1300.00  1293.28      40.29    NYK   \n1            0     NYK   Knicks   68  1300.00  1306.72      41.71    TRH   \n2            0     CHS    Stags   63  1300.00  1309.65      42.01    NYK   \n3            0     NYK   Knicks   47  1306.72  1297.07      40.69    CHS   \n4            0     DTF  Falcons   33  1300.00  1279.62      38.86    WSC   \n\n   opp_fran  opp_pts  opp_elo_i  opp_elo_n game_location game_result  \\\n0    Knicks       68    1300.00    1306.72             H           L   \n1   Huskies       66    1300.00    1293.28             A           W   \n2    Knicks       47    1306.72    1297.07             H           W   \n3     Stags       63    1300.00    1309.65             A           L   \n4  Capitols       50    1300.00    1320.38             H           L   \n\n   forecast notes  \n0      0.64   NaN  \n1      0.36   NaN  \n2      0.63   NaN  \n3      0.37   NaN  \n4      0.64   NaN  ",
      "text/html": "<div>\n<style scoped>\n    .dataframe tbody tr th:only-of-type {\n        vertical-align: middle;\n    }\n\n    .dataframe tbody tr th {\n        vertical-align: top;\n    }\n\n    .dataframe thead th {\n        text-align: right;\n    }\n</style>\n<table border=\"1\" class=\"dataframe\">\n  <thead>\n    <tr style=\"text-align: right;\">\n      <th></th>\n      <th>gameorder</th>\n      <th>game_id</th>\n      <th>lg_id</th>\n      <th>_iscopy</th>\n      <th>year_id</th>\n      <th>date_game</th>\n      <th>seasongame</th>\n      <th>is_playoffs</th>\n      <th>team_id</th>\n      <th>fran_id</th>\n      <th>pts</th>\n      <th>elo_i</th>\n      <th>elo_n</th>\n      <th>win_equiv</th>\n      <th>opp_id</th>\n      <th>opp_fran</th>\n      <th>opp_pts</th>\n      <th>opp_elo_i</th>\n      <th>opp_elo_n</th>\n      <th>game_location</th>\n      <th>game_result</th>\n      <th>forecast</th>\n      <th>notes</th>\n    </tr>\n  </thead>\n  <tbody>\n    <tr>\n      <th>0</th>\n      <td>1</td>\n      <td>194611010TRH</td>\n      <td>NBA</td>\n      <td>0</td>\n      <td>1947</td>\n      <td>11/1/1946</td>\n      <td>1</td>\n      <td>0</td>\n      <td>TRH</td>\n      <td>Huskies</td>\n      <td>66</td>\n      <td>1300.00</td>\n      <td>1293.28</td>\n      <td>40.29</td>\n      <td>NYK</td>\n      <td>Knicks</td>\n      <td>68</td>\n      <td>1300.00</td>\n      <td>1306.72</td>\n      <td>H</td>\n      <td>L</td>\n      <td>0.64</td>\n      <td>NaN</td>\n    </tr>\n    <tr>\n      <th>1</th>\n      <td>1</td>\n      <td>194611010TRH</td>\n      <td>NBA</td>\n      <td>1</td>\n      <td>1947</td>\n      <td>11/1/1946</td>\n      <td>1</td>\n      <td>0</td>\n      <td>NYK</td>\n      <td>Knicks</td>\n      <td>68</td>\n      <td>1300.00</td>\n      <td>1306.72</td>\n      <td>41.71</td>\n      <td>TRH</td>\n      <td>Huskies</td>\n      <td>66</td>\n      <td>1300.00</td>\n      <td>1293.28</td>\n      <td>A</td>\n      <td>W</td>\n      <td>0.36</td>\n      <td>NaN</td>\n    </tr>\n    <tr>\n      <th>2</th>\n      <td>2</td>\n      <td>194611020CHS</td>\n      <td>NBA</td>\n      <td>0</td>\n      <td>1947</td>\n      <td>11/2/1946</td>\n      <td>1</td>\n      <td>0</td>\n      <td>CHS</td>\n      <td>Stags</td>\n      <td>63</td>\n      <td>1300.00</td>\n      <td>1309.65</td>\n      <td>42.01</td>\n      <td>NYK</td>\n      <td>Knicks</td>\n      <td>47</td>\n      <td>1306.72</td>\n      <td>1297.07</td>\n      <td>H</td>\n      <td>W</td>\n      <td>0.63</td>\n      <td>NaN</td>\n    </tr>\n    <tr>\n      <th>3</th>\n      <td>2</td>\n      <td>194611020CHS</td>\n      <td>NBA</td>\n      <td>1</td>\n      <td>1947</td>\n      <td>11/2/1946</td>\n      <td>2</td>\n      <td>0</td>\n      <td>NYK</td>\n      <td>Knicks</td>\n      <td>47</td>\n      <td>1306.72</td>\n      <td>1297.07</td>\n      <td>40.69</td>\n      <td>CHS</td>\n      <td>Stags</td>\n      <td>63</td>\n      <td>1300.00</td>\n      <td>1309.65</td>\n      <td>A</td>\n      <td>L</td>\n      <td>0.37</td>\n      <td>NaN</td>\n    </tr>\n    <tr>\n      <th>4</th>\n      <td>3</td>\n      <td>194611020DTF</td>\n      <td>NBA</td>\n      <td>0</td>\n      <td>1947</td>\n      <td>11/2/1946</td>\n      <td>1</td>\n      <td>0</td>\n      <td>DTF</td>\n      <td>Falcons</td>\n      <td>33</td>\n      <td>1300.00</td>\n      <td>1279.62</td>\n      <td>38.86</td>\n      <td>WSC</td>\n      <td>Capitols</td>\n      <td>50</td>\n      <td>1300.00</td>\n      <td>1320.38</td>\n      <td>H</td>\n      <td>L</td>\n      <td>0.64</td>\n      <td>NaN</td>\n    </tr>\n  </tbody>\n</table>\n</div>"
     },
     "execution_count": 11,
     "metadata": {},
     "output_type": "execute_result"
    }
   ],
   "source": [
    "nba.head()"
   ],
   "metadata": {
    "collapsed": false
   }
  },
  {
   "cell_type": "code",
   "execution_count": 10,
   "outputs": [
    {
     "name": "stdout",
     "output_type": "stream",
     "text": [
      "The history saving thread hit an unexpected error (OperationalError('attempt to write a readonly database')).History will not be written to the database.\n"
     ]
    }
   ],
   "source": [
    "pd.set_option('display.max.columns', None)\n",
    "pd.set_option('display.precision', 2)"
   ],
   "metadata": {
    "collapsed": false
   }
  },
  {
   "cell_type": "code",
   "execution_count": 12,
   "outputs": [
    {
     "data": {
      "text/plain": "        gameorder       game_id lg_id  _iscopy  year_id  date_game  \\\n126309      63155  201506110CLE   NBA        0     2015  6/11/2015   \n126310      63156  201506140GSW   NBA        0     2015  6/14/2015   \n126311      63156  201506140GSW   NBA        1     2015  6/14/2015   \n126312      63157  201506170CLE   NBA        0     2015  6/16/2015   \n126313      63157  201506170CLE   NBA        1     2015  6/16/2015   \n\n        seasongame  is_playoffs team_id    fran_id  pts    elo_i    elo_n  \\\n126309         100            1     CLE  Cavaliers   82  1723.41  1704.39   \n126310         102            1     GSW   Warriors  104  1809.98  1813.63   \n126311         101            1     CLE  Cavaliers   91  1704.39  1700.74   \n126312         102            1     CLE  Cavaliers   97  1700.74  1692.09   \n126313         103            1     GSW   Warriors  105  1813.63  1822.29   \n\n        win_equiv opp_id   opp_fran  opp_pts  opp_elo_i  opp_elo_n  \\\n126309      60.31    GSW   Warriors      103    1790.96    1809.98   \n126310      68.01    CLE  Cavaliers       91    1704.39    1700.74   \n126311      60.01    GSW   Warriors      104    1809.98    1813.63   \n126312      59.29    GSW   Warriors      105    1813.63    1822.29   \n126313      68.52    CLE  Cavaliers       97    1700.74    1692.09   \n\n       game_location game_result  forecast notes  \n126309             H           L      0.55   NaN  \n126310             H           W      0.77   NaN  \n126311             A           L      0.23   NaN  \n126312             H           L      0.48   NaN  \n126313             A           W      0.52   NaN  ",
      "text/html": "<div>\n<style scoped>\n    .dataframe tbody tr th:only-of-type {\n        vertical-align: middle;\n    }\n\n    .dataframe tbody tr th {\n        vertical-align: top;\n    }\n\n    .dataframe thead th {\n        text-align: right;\n    }\n</style>\n<table border=\"1\" class=\"dataframe\">\n  <thead>\n    <tr style=\"text-align: right;\">\n      <th></th>\n      <th>gameorder</th>\n      <th>game_id</th>\n      <th>lg_id</th>\n      <th>_iscopy</th>\n      <th>year_id</th>\n      <th>date_game</th>\n      <th>seasongame</th>\n      <th>is_playoffs</th>\n      <th>team_id</th>\n      <th>fran_id</th>\n      <th>pts</th>\n      <th>elo_i</th>\n      <th>elo_n</th>\n      <th>win_equiv</th>\n      <th>opp_id</th>\n      <th>opp_fran</th>\n      <th>opp_pts</th>\n      <th>opp_elo_i</th>\n      <th>opp_elo_n</th>\n      <th>game_location</th>\n      <th>game_result</th>\n      <th>forecast</th>\n      <th>notes</th>\n    </tr>\n  </thead>\n  <tbody>\n    <tr>\n      <th>126309</th>\n      <td>63155</td>\n      <td>201506110CLE</td>\n      <td>NBA</td>\n      <td>0</td>\n      <td>2015</td>\n      <td>6/11/2015</td>\n      <td>100</td>\n      <td>1</td>\n      <td>CLE</td>\n      <td>Cavaliers</td>\n      <td>82</td>\n      <td>1723.41</td>\n      <td>1704.39</td>\n      <td>60.31</td>\n      <td>GSW</td>\n      <td>Warriors</td>\n      <td>103</td>\n      <td>1790.96</td>\n      <td>1809.98</td>\n      <td>H</td>\n      <td>L</td>\n      <td>0.55</td>\n      <td>NaN</td>\n    </tr>\n    <tr>\n      <th>126310</th>\n      <td>63156</td>\n      <td>201506140GSW</td>\n      <td>NBA</td>\n      <td>0</td>\n      <td>2015</td>\n      <td>6/14/2015</td>\n      <td>102</td>\n      <td>1</td>\n      <td>GSW</td>\n      <td>Warriors</td>\n      <td>104</td>\n      <td>1809.98</td>\n      <td>1813.63</td>\n      <td>68.01</td>\n      <td>CLE</td>\n      <td>Cavaliers</td>\n      <td>91</td>\n      <td>1704.39</td>\n      <td>1700.74</td>\n      <td>H</td>\n      <td>W</td>\n      <td>0.77</td>\n      <td>NaN</td>\n    </tr>\n    <tr>\n      <th>126311</th>\n      <td>63156</td>\n      <td>201506140GSW</td>\n      <td>NBA</td>\n      <td>1</td>\n      <td>2015</td>\n      <td>6/14/2015</td>\n      <td>101</td>\n      <td>1</td>\n      <td>CLE</td>\n      <td>Cavaliers</td>\n      <td>91</td>\n      <td>1704.39</td>\n      <td>1700.74</td>\n      <td>60.01</td>\n      <td>GSW</td>\n      <td>Warriors</td>\n      <td>104</td>\n      <td>1809.98</td>\n      <td>1813.63</td>\n      <td>A</td>\n      <td>L</td>\n      <td>0.23</td>\n      <td>NaN</td>\n    </tr>\n    <tr>\n      <th>126312</th>\n      <td>63157</td>\n      <td>201506170CLE</td>\n      <td>NBA</td>\n      <td>0</td>\n      <td>2015</td>\n      <td>6/16/2015</td>\n      <td>102</td>\n      <td>1</td>\n      <td>CLE</td>\n      <td>Cavaliers</td>\n      <td>97</td>\n      <td>1700.74</td>\n      <td>1692.09</td>\n      <td>59.29</td>\n      <td>GSW</td>\n      <td>Warriors</td>\n      <td>105</td>\n      <td>1813.63</td>\n      <td>1822.29</td>\n      <td>H</td>\n      <td>L</td>\n      <td>0.48</td>\n      <td>NaN</td>\n    </tr>\n    <tr>\n      <th>126313</th>\n      <td>63157</td>\n      <td>201506170CLE</td>\n      <td>NBA</td>\n      <td>1</td>\n      <td>2015</td>\n      <td>6/16/2015</td>\n      <td>103</td>\n      <td>1</td>\n      <td>GSW</td>\n      <td>Warriors</td>\n      <td>105</td>\n      <td>1813.63</td>\n      <td>1822.29</td>\n      <td>68.52</td>\n      <td>CLE</td>\n      <td>Cavaliers</td>\n      <td>97</td>\n      <td>1700.74</td>\n      <td>1692.09</td>\n      <td>A</td>\n      <td>W</td>\n      <td>0.52</td>\n      <td>NaN</td>\n    </tr>\n  </tbody>\n</table>\n</div>"
     },
     "execution_count": 12,
     "metadata": {},
     "output_type": "execute_result"
    }
   ],
   "source": [
    "nba.tail()"
   ],
   "metadata": {
    "collapsed": false
   }
  },
  {
   "cell_type": "code",
   "execution_count": 13,
   "outputs": [
    {
     "name": "stdout",
     "output_type": "stream",
     "text": [
      "<class 'pandas.core.frame.DataFrame'>\n",
      "RangeIndex: 126314 entries, 0 to 126313\n",
      "Data columns (total 23 columns):\n",
      " #   Column         Non-Null Count   Dtype  \n",
      "---  ------         --------------   -----  \n",
      " 0   gameorder      126314 non-null  int64  \n",
      " 1   game_id        126314 non-null  object \n",
      " 2   lg_id          126314 non-null  object \n",
      " 3   _iscopy        126314 non-null  int64  \n",
      " 4   year_id        126314 non-null  int64  \n",
      " 5   date_game      126314 non-null  object \n",
      " 6   seasongame     126314 non-null  int64  \n",
      " 7   is_playoffs    126314 non-null  int64  \n",
      " 8   team_id        126314 non-null  object \n",
      " 9   fran_id        126314 non-null  object \n",
      " 10  pts            126314 non-null  int64  \n",
      " 11  elo_i          126314 non-null  float64\n",
      " 12  elo_n          126314 non-null  float64\n",
      " 13  win_equiv      126314 non-null  float64\n",
      " 14  opp_id         126314 non-null  object \n",
      " 15  opp_fran       126314 non-null  object \n",
      " 16  opp_pts        126314 non-null  int64  \n",
      " 17  opp_elo_i      126314 non-null  float64\n",
      " 18  opp_elo_n      126314 non-null  float64\n",
      " 19  game_location  126314 non-null  object \n",
      " 20  game_result    126314 non-null  object \n",
      " 21  forecast       126314 non-null  float64\n",
      " 22  notes          5424 non-null    object \n",
      "dtypes: float64(6), int64(7), object(10)\n",
      "memory usage: 22.2+ MB\n"
     ]
    }
   ],
   "source": [
    "nba.info()"
   ],
   "metadata": {
    "collapsed": false
   }
  },
  {
   "cell_type": "code",
   "execution_count": 14,
   "outputs": [
    {
     "data": {
      "text/plain": "       gameorder   _iscopy    year_id  seasongame  is_playoffs        pts  \\\ncount  126314.00  126314.0  126314.00   126314.00    126314.00  126314.00   \nmean    31579.00       0.5    1988.20       43.53         0.06     102.73   \nstd     18231.93       0.5      17.58       25.38         0.24      14.81   \nmin         1.00       0.0    1947.00        1.00         0.00       0.00   \n25%     15790.00       0.0    1975.00       22.00         0.00      93.00   \n50%     31579.00       0.5    1990.00       43.00         0.00     103.00   \n75%     47368.00       1.0    2003.00       65.00         0.00     112.00   \nmax     63157.00       1.0    2015.00      108.00         1.00     186.00   \n\n           elo_i      elo_n  win_equiv    opp_pts  opp_elo_i  opp_elo_n  \\\ncount  126314.00  126314.00  126314.00  126314.00  126314.00  126314.00   \nmean     1495.24    1495.24      41.71     102.73    1495.24    1495.24   \nstd       112.14     112.46      10.63      14.81     112.14     112.46   \nmin      1091.64    1085.77      10.15       0.00    1091.64    1085.77   \n25%      1417.24    1416.99      34.10      93.00    1417.24    1416.99   \n50%      1500.95    1500.95      42.11     103.00    1500.95    1500.95   \n75%      1576.06    1576.29      49.64     112.00    1576.06    1576.29   \nmax      1853.10    1853.10      71.11     186.00    1853.10    1853.10   \n\n        forecast  \ncount  126314.00  \nmean        0.50  \nstd         0.22  \nmin         0.02  \n25%         0.33  \n50%         0.50  \n75%         0.67  \nmax         0.98  ",
      "text/html": "<div>\n<style scoped>\n    .dataframe tbody tr th:only-of-type {\n        vertical-align: middle;\n    }\n\n    .dataframe tbody tr th {\n        vertical-align: top;\n    }\n\n    .dataframe thead th {\n        text-align: right;\n    }\n</style>\n<table border=\"1\" class=\"dataframe\">\n  <thead>\n    <tr style=\"text-align: right;\">\n      <th></th>\n      <th>gameorder</th>\n      <th>_iscopy</th>\n      <th>year_id</th>\n      <th>seasongame</th>\n      <th>is_playoffs</th>\n      <th>pts</th>\n      <th>elo_i</th>\n      <th>elo_n</th>\n      <th>win_equiv</th>\n      <th>opp_pts</th>\n      <th>opp_elo_i</th>\n      <th>opp_elo_n</th>\n      <th>forecast</th>\n    </tr>\n  </thead>\n  <tbody>\n    <tr>\n      <th>count</th>\n      <td>126314.00</td>\n      <td>126314.0</td>\n      <td>126314.00</td>\n      <td>126314.00</td>\n      <td>126314.00</td>\n      <td>126314.00</td>\n      <td>126314.00</td>\n      <td>126314.00</td>\n      <td>126314.00</td>\n      <td>126314.00</td>\n      <td>126314.00</td>\n      <td>126314.00</td>\n      <td>126314.00</td>\n    </tr>\n    <tr>\n      <th>mean</th>\n      <td>31579.00</td>\n      <td>0.5</td>\n      <td>1988.20</td>\n      <td>43.53</td>\n      <td>0.06</td>\n      <td>102.73</td>\n      <td>1495.24</td>\n      <td>1495.24</td>\n      <td>41.71</td>\n      <td>102.73</td>\n      <td>1495.24</td>\n      <td>1495.24</td>\n      <td>0.50</td>\n    </tr>\n    <tr>\n      <th>std</th>\n      <td>18231.93</td>\n      <td>0.5</td>\n      <td>17.58</td>\n      <td>25.38</td>\n      <td>0.24</td>\n      <td>14.81</td>\n      <td>112.14</td>\n      <td>112.46</td>\n      <td>10.63</td>\n      <td>14.81</td>\n      <td>112.14</td>\n      <td>112.46</td>\n      <td>0.22</td>\n    </tr>\n    <tr>\n      <th>min</th>\n      <td>1.00</td>\n      <td>0.0</td>\n      <td>1947.00</td>\n      <td>1.00</td>\n      <td>0.00</td>\n      <td>0.00</td>\n      <td>1091.64</td>\n      <td>1085.77</td>\n      <td>10.15</td>\n      <td>0.00</td>\n      <td>1091.64</td>\n      <td>1085.77</td>\n      <td>0.02</td>\n    </tr>\n    <tr>\n      <th>25%</th>\n      <td>15790.00</td>\n      <td>0.0</td>\n      <td>1975.00</td>\n      <td>22.00</td>\n      <td>0.00</td>\n      <td>93.00</td>\n      <td>1417.24</td>\n      <td>1416.99</td>\n      <td>34.10</td>\n      <td>93.00</td>\n      <td>1417.24</td>\n      <td>1416.99</td>\n      <td>0.33</td>\n    </tr>\n    <tr>\n      <th>50%</th>\n      <td>31579.00</td>\n      <td>0.5</td>\n      <td>1990.00</td>\n      <td>43.00</td>\n      <td>0.00</td>\n      <td>103.00</td>\n      <td>1500.95</td>\n      <td>1500.95</td>\n      <td>42.11</td>\n      <td>103.00</td>\n      <td>1500.95</td>\n      <td>1500.95</td>\n      <td>0.50</td>\n    </tr>\n    <tr>\n      <th>75%</th>\n      <td>47368.00</td>\n      <td>1.0</td>\n      <td>2003.00</td>\n      <td>65.00</td>\n      <td>0.00</td>\n      <td>112.00</td>\n      <td>1576.06</td>\n      <td>1576.29</td>\n      <td>49.64</td>\n      <td>112.00</td>\n      <td>1576.06</td>\n      <td>1576.29</td>\n      <td>0.67</td>\n    </tr>\n    <tr>\n      <th>max</th>\n      <td>63157.00</td>\n      <td>1.0</td>\n      <td>2015.00</td>\n      <td>108.00</td>\n      <td>1.00</td>\n      <td>186.00</td>\n      <td>1853.10</td>\n      <td>1853.10</td>\n      <td>71.11</td>\n      <td>186.00</td>\n      <td>1853.10</td>\n      <td>1853.10</td>\n      <td>0.98</td>\n    </tr>\n  </tbody>\n</table>\n</div>"
     },
     "execution_count": 14,
     "metadata": {},
     "output_type": "execute_result"
    }
   ],
   "source": [
    "nba.describe()"
   ],
   "metadata": {
    "collapsed": false
   }
  },
  {
   "cell_type": "code",
   "execution_count": 15,
   "outputs": [
    {
     "data": {
      "text/plain": "BOS    5997\nNYK    5769\nLAL    5078\nDET    4985\nPHI    4533\n       ... \nINJ      60\nPIT      60\nDTF      60\nTRH      60\nSDS      11\nName: team_id, Length: 104, dtype: int64"
     },
     "execution_count": 15,
     "metadata": {},
     "output_type": "execute_result"
    }
   ],
   "source": [
    "nba['team_id'].value_counts()"
   ],
   "metadata": {
    "collapsed": false
   }
  },
  {
   "cell_type": "code",
   "execution_count": 16,
   "outputs": [
    {
     "data": {
      "text/plain": "Lakers          6024\nCeltics         5997\nKnicks          5769\nWarriors        5657\nPistons         5650\nSixers          5644\nHawks           5572\nKings           5475\nWizards         4582\nSpurs           4309\nBulls           4307\nPacers          4227\nThunder         4178\nRockets         4154\nNuggets         4120\nNets            4106\nSuns            4080\nBucks           4034\nTrailblazers    3870\nCavaliers       3810\nClippers        3733\nJazz            3555\nMavericks       3013\nHeat            2371\nPelicans        2254\nMagic           2207\nTimberwolves    2131\nGrizzlies       1657\nRaptors         1634\nHornets          894\nColonels         846\nSquires          799\nSpirits          777\nStars            756\nSounds           697\nBaltimore        467\nFloridians       440\nCondors          430\nCapitols         291\nOlympians        282\nSails            274\nStags            260\nBombers          249\nSteamrollers     168\nPackers           72\nRedskins          65\nRebels            63\nWaterloo          62\nDenver            62\nFalcons           60\nJets              60\nIronmen           60\nHuskies           60\nName: fran_id, dtype: int64"
     },
     "execution_count": 16,
     "metadata": {},
     "output_type": "execute_result"
    }
   ],
   "source": [
    "nba['fran_id'].value_counts()"
   ],
   "metadata": {
    "collapsed": false
   }
  },
  {
   "cell_type": "code",
   "execution_count": 17,
   "outputs": [
    {
     "data": {
      "text/plain": "0         False\n1         False\n2         False\n3         False\n4         False\n          ...  \n126309    False\n126310    False\n126311    False\n126312    False\n126313    False\nName: fran_id, Length: 126314, dtype: bool"
     },
     "execution_count": 17,
     "metadata": {},
     "output_type": "execute_result"
    }
   ],
   "source": [
    "nba['fran_id'] == 'Lakers'"
   ],
   "metadata": {
    "collapsed": false
   }
  },
  {
   "cell_type": "code",
   "execution_count": 18,
   "outputs": [
    {
     "data": {
      "text/plain": "        gameorder       game_id lg_id  _iscopy  year_id   date_game  \\\n1136          569  194811040BLB   NBA        1     1949   11/4/1948   \n1152          577  194811060WSC   NBA        1     1949   11/6/1948   \n1159          580  194811090BOS   NBA        1     1949   11/9/1948   \n1170          586  194811110NYK   NBA        1     1949  11/11/1948   \n1183          592  194811130PRO   NBA        1     1949  11/13/1948   \n...           ...           ...   ...      ...      ...         ...   \n126016      63009  201504080DEN   NBA        1     2015    4/8/2015   \n126052      63027  201504100LAL   NBA        0     2015   4/10/2015   \n126086      63044  201504120LAL   NBA        0     2015   4/12/2015   \n126115      63058  201504130SAC   NBA        1     2015   4/13/2015   \n126137      63069  201504150LAL   NBA        0     2015   4/15/2015   \n\n        seasongame  is_playoffs team_id fran_id  pts    elo_i    elo_n  \\\n1136             1            0     MNL  Lakers   84  1527.00  1542.25   \n1152             2            0     MNL  Lakers   62  1542.25  1536.21   \n1159             3            0     MNL  Lakers   55  1536.21  1513.49   \n1170             4            0     MNL  Lakers   77  1513.49  1524.96   \n1183             5            0     MNL  Lakers   90  1524.96  1533.27   \n...            ...          ...     ...     ...  ...      ...      ...   \n126016          78            0     LAL  Lakers  101  1313.78  1307.51   \n126052          79            0     LAL  Lakers  106  1307.51  1312.95   \n126086          80            0     LAL  Lakers  106  1312.95  1305.92   \n126115          81            0     LAL  Lakers   92  1305.92  1301.39   \n126137          82            0     LAL  Lakers   99  1301.39  1283.24   \n\n        win_equiv opp_id      opp_fran  opp_pts  opp_elo_i  opp_elo_n  \\\n1136        51.22    BLB     Baltimore       72    1507.21    1491.95   \n1152        50.62    WSC      Capitols       67    1481.87    1487.92   \n1159        48.34    BOS       Celtics       77    1359.33    1382.05   \n1170        49.50    NYK        Knicks       68    1460.42    1448.95   \n1183        50.33    PRO  Steamrollers       67    1245.95    1237.63   \n...           ...    ...           ...      ...        ...        ...   \n126016      21.92    DEN       Nuggets      119    1415.06    1421.32   \n126052      22.37    MIN  Timberwolves       98    1283.92    1278.48   \n126086      21.79    DAL     Mavericks      120    1556.22    1563.25   \n126115      21.42    SAC         Kings      102    1395.60    1400.13   \n126137      19.99    SAC         Kings      122    1400.13    1418.28   \n\n       game_location game_result  forecast notes  \n1136               A           W      0.39   NaN  \n1152               A           L      0.44   NaN  \n1159               A           L      0.61   NaN  \n1170               A           W      0.43   NaN  \n1183               A           W      0.74   NaN  \n...              ...         ...       ...   ...  \n126016             A           L      0.24   NaN  \n126052             H           W      0.67   NaN  \n126086             H           L      0.30   NaN  \n126115             A           L      0.25   NaN  \n126137             H           L      0.50   NaN  \n\n[6024 rows x 23 columns]",
      "text/html": "<div>\n<style scoped>\n    .dataframe tbody tr th:only-of-type {\n        vertical-align: middle;\n    }\n\n    .dataframe tbody tr th {\n        vertical-align: top;\n    }\n\n    .dataframe thead th {\n        text-align: right;\n    }\n</style>\n<table border=\"1\" class=\"dataframe\">\n  <thead>\n    <tr style=\"text-align: right;\">\n      <th></th>\n      <th>gameorder</th>\n      <th>game_id</th>\n      <th>lg_id</th>\n      <th>_iscopy</th>\n      <th>year_id</th>\n      <th>date_game</th>\n      <th>seasongame</th>\n      <th>is_playoffs</th>\n      <th>team_id</th>\n      <th>fran_id</th>\n      <th>pts</th>\n      <th>elo_i</th>\n      <th>elo_n</th>\n      <th>win_equiv</th>\n      <th>opp_id</th>\n      <th>opp_fran</th>\n      <th>opp_pts</th>\n      <th>opp_elo_i</th>\n      <th>opp_elo_n</th>\n      <th>game_location</th>\n      <th>game_result</th>\n      <th>forecast</th>\n      <th>notes</th>\n    </tr>\n  </thead>\n  <tbody>\n    <tr>\n      <th>1136</th>\n      <td>569</td>\n      <td>194811040BLB</td>\n      <td>NBA</td>\n      <td>1</td>\n      <td>1949</td>\n      <td>11/4/1948</td>\n      <td>1</td>\n      <td>0</td>\n      <td>MNL</td>\n      <td>Lakers</td>\n      <td>84</td>\n      <td>1527.00</td>\n      <td>1542.25</td>\n      <td>51.22</td>\n      <td>BLB</td>\n      <td>Baltimore</td>\n      <td>72</td>\n      <td>1507.21</td>\n      <td>1491.95</td>\n      <td>A</td>\n      <td>W</td>\n      <td>0.39</td>\n      <td>NaN</td>\n    </tr>\n    <tr>\n      <th>1152</th>\n      <td>577</td>\n      <td>194811060WSC</td>\n      <td>NBA</td>\n      <td>1</td>\n      <td>1949</td>\n      <td>11/6/1948</td>\n      <td>2</td>\n      <td>0</td>\n      <td>MNL</td>\n      <td>Lakers</td>\n      <td>62</td>\n      <td>1542.25</td>\n      <td>1536.21</td>\n      <td>50.62</td>\n      <td>WSC</td>\n      <td>Capitols</td>\n      <td>67</td>\n      <td>1481.87</td>\n      <td>1487.92</td>\n      <td>A</td>\n      <td>L</td>\n      <td>0.44</td>\n      <td>NaN</td>\n    </tr>\n    <tr>\n      <th>1159</th>\n      <td>580</td>\n      <td>194811090BOS</td>\n      <td>NBA</td>\n      <td>1</td>\n      <td>1949</td>\n      <td>11/9/1948</td>\n      <td>3</td>\n      <td>0</td>\n      <td>MNL</td>\n      <td>Lakers</td>\n      <td>55</td>\n      <td>1536.21</td>\n      <td>1513.49</td>\n      <td>48.34</td>\n      <td>BOS</td>\n      <td>Celtics</td>\n      <td>77</td>\n      <td>1359.33</td>\n      <td>1382.05</td>\n      <td>A</td>\n      <td>L</td>\n      <td>0.61</td>\n      <td>NaN</td>\n    </tr>\n    <tr>\n      <th>1170</th>\n      <td>586</td>\n      <td>194811110NYK</td>\n      <td>NBA</td>\n      <td>1</td>\n      <td>1949</td>\n      <td>11/11/1948</td>\n      <td>4</td>\n      <td>0</td>\n      <td>MNL</td>\n      <td>Lakers</td>\n      <td>77</td>\n      <td>1513.49</td>\n      <td>1524.96</td>\n      <td>49.50</td>\n      <td>NYK</td>\n      <td>Knicks</td>\n      <td>68</td>\n      <td>1460.42</td>\n      <td>1448.95</td>\n      <td>A</td>\n      <td>W</td>\n      <td>0.43</td>\n      <td>NaN</td>\n    </tr>\n    <tr>\n      <th>1183</th>\n      <td>592</td>\n      <td>194811130PRO</td>\n      <td>NBA</td>\n      <td>1</td>\n      <td>1949</td>\n      <td>11/13/1948</td>\n      <td>5</td>\n      <td>0</td>\n      <td>MNL</td>\n      <td>Lakers</td>\n      <td>90</td>\n      <td>1524.96</td>\n      <td>1533.27</td>\n      <td>50.33</td>\n      <td>PRO</td>\n      <td>Steamrollers</td>\n      <td>67</td>\n      <td>1245.95</td>\n      <td>1237.63</td>\n      <td>A</td>\n      <td>W</td>\n      <td>0.74</td>\n      <td>NaN</td>\n    </tr>\n    <tr>\n      <th>...</th>\n      <td>...</td>\n      <td>...</td>\n      <td>...</td>\n      <td>...</td>\n      <td>...</td>\n      <td>...</td>\n      <td>...</td>\n      <td>...</td>\n      <td>...</td>\n      <td>...</td>\n      <td>...</td>\n      <td>...</td>\n      <td>...</td>\n      <td>...</td>\n      <td>...</td>\n      <td>...</td>\n      <td>...</td>\n      <td>...</td>\n      <td>...</td>\n      <td>...</td>\n      <td>...</td>\n      <td>...</td>\n      <td>...</td>\n    </tr>\n    <tr>\n      <th>126016</th>\n      <td>63009</td>\n      <td>201504080DEN</td>\n      <td>NBA</td>\n      <td>1</td>\n      <td>2015</td>\n      <td>4/8/2015</td>\n      <td>78</td>\n      <td>0</td>\n      <td>LAL</td>\n      <td>Lakers</td>\n      <td>101</td>\n      <td>1313.78</td>\n      <td>1307.51</td>\n      <td>21.92</td>\n      <td>DEN</td>\n      <td>Nuggets</td>\n      <td>119</td>\n      <td>1415.06</td>\n      <td>1421.32</td>\n      <td>A</td>\n      <td>L</td>\n      <td>0.24</td>\n      <td>NaN</td>\n    </tr>\n    <tr>\n      <th>126052</th>\n      <td>63027</td>\n      <td>201504100LAL</td>\n      <td>NBA</td>\n      <td>0</td>\n      <td>2015</td>\n      <td>4/10/2015</td>\n      <td>79</td>\n      <td>0</td>\n      <td>LAL</td>\n      <td>Lakers</td>\n      <td>106</td>\n      <td>1307.51</td>\n      <td>1312.95</td>\n      <td>22.37</td>\n      <td>MIN</td>\n      <td>Timberwolves</td>\n      <td>98</td>\n      <td>1283.92</td>\n      <td>1278.48</td>\n      <td>H</td>\n      <td>W</td>\n      <td>0.67</td>\n      <td>NaN</td>\n    </tr>\n    <tr>\n      <th>126086</th>\n      <td>63044</td>\n      <td>201504120LAL</td>\n      <td>NBA</td>\n      <td>0</td>\n      <td>2015</td>\n      <td>4/12/2015</td>\n      <td>80</td>\n      <td>0</td>\n      <td>LAL</td>\n      <td>Lakers</td>\n      <td>106</td>\n      <td>1312.95</td>\n      <td>1305.92</td>\n      <td>21.79</td>\n      <td>DAL</td>\n      <td>Mavericks</td>\n      <td>120</td>\n      <td>1556.22</td>\n      <td>1563.25</td>\n      <td>H</td>\n      <td>L</td>\n      <td>0.30</td>\n      <td>NaN</td>\n    </tr>\n    <tr>\n      <th>126115</th>\n      <td>63058</td>\n      <td>201504130SAC</td>\n      <td>NBA</td>\n      <td>1</td>\n      <td>2015</td>\n      <td>4/13/2015</td>\n      <td>81</td>\n      <td>0</td>\n      <td>LAL</td>\n      <td>Lakers</td>\n      <td>92</td>\n      <td>1305.92</td>\n      <td>1301.39</td>\n      <td>21.42</td>\n      <td>SAC</td>\n      <td>Kings</td>\n      <td>102</td>\n      <td>1395.60</td>\n      <td>1400.13</td>\n      <td>A</td>\n      <td>L</td>\n      <td>0.25</td>\n      <td>NaN</td>\n    </tr>\n    <tr>\n      <th>126137</th>\n      <td>63069</td>\n      <td>201504150LAL</td>\n      <td>NBA</td>\n      <td>0</td>\n      <td>2015</td>\n      <td>4/15/2015</td>\n      <td>82</td>\n      <td>0</td>\n      <td>LAL</td>\n      <td>Lakers</td>\n      <td>99</td>\n      <td>1301.39</td>\n      <td>1283.24</td>\n      <td>19.99</td>\n      <td>SAC</td>\n      <td>Kings</td>\n      <td>122</td>\n      <td>1400.13</td>\n      <td>1418.28</td>\n      <td>H</td>\n      <td>L</td>\n      <td>0.50</td>\n      <td>NaN</td>\n    </tr>\n  </tbody>\n</table>\n<p>6024 rows × 23 columns</p>\n</div>"
     },
     "execution_count": 18,
     "metadata": {},
     "output_type": "execute_result"
    }
   ],
   "source": [
    "nba.loc[nba['fran_id'] == 'Lakers']"
   ],
   "metadata": {
    "collapsed": false
   }
  },
  {
   "cell_type": "code",
   "execution_count": 19,
   "outputs": [
    {
     "data": {
      "text/plain": "1136      MNL\n1152      MNL\n1159      MNL\n1170      MNL\n1183      MNL\n         ... \n126016    LAL\n126052    LAL\n126086    LAL\n126115    LAL\n126137    LAL\nName: team_id, Length: 6024, dtype: object"
     },
     "execution_count": 19,
     "metadata": {},
     "output_type": "execute_result"
    }
   ],
   "source": [
    "nba.loc[nba['fran_id'] == 'Lakers', 'team_id']"
   ],
   "metadata": {
    "collapsed": false
   }
  },
  {
   "cell_type": "code",
   "execution_count": 20,
   "outputs": [
    {
     "data": {
      "text/plain": "LAL    5078\nMNL     946\nName: team_id, dtype: int64"
     },
     "execution_count": 20,
     "metadata": {},
     "output_type": "execute_result"
    }
   ],
   "source": [
    "nba.loc[nba['fran_id'] == 'Lakers', 'team_id'].value_counts()"
   ],
   "metadata": {
    "collapsed": false
   }
  },
  {
   "cell_type": "code",
   "execution_count": 21,
   "outputs": [
    {
     "data": {
      "text/plain": "1136     11/4/1948\n1152     11/6/1948\n1159     11/9/1948\n1170    11/11/1948\n1183    11/13/1948\n           ...    \n9701     3/19/1960\n9702     3/20/1960\n9709     3/22/1960\n9711     3/24/1960\n9715     3/26/1960\nName: date_game, Length: 946, dtype: object"
     },
     "execution_count": 21,
     "metadata": {},
     "output_type": "execute_result"
    }
   ],
   "source": [
    "nba.loc[nba['team_id'] == 'MNL', 'date_game']"
   ],
   "metadata": {
    "collapsed": false
   }
  },
  {
   "cell_type": "code",
   "execution_count": 22,
   "outputs": [
    {
     "data": {
      "text/plain": "'4/9/1959'"
     },
     "execution_count": 22,
     "metadata": {},
     "output_type": "execute_result"
    }
   ],
   "source": [
    "nba.loc[nba['team_id'] == 'MNL', 'date_game'].max()"
   ],
   "metadata": {
    "collapsed": false
   }
  },
  {
   "cell_type": "code",
   "execution_count": 23,
   "outputs": [],
   "source": [
    "nba['date_played'] = pd.to_datetime(nba['date_game'])"
   ],
   "metadata": {
    "collapsed": false
   }
  },
  {
   "cell_type": "code",
   "execution_count": 24,
   "outputs": [
    {
     "data": {
      "text/plain": "Timestamp('1960-03-26 00:00:00')"
     },
     "execution_count": 24,
     "metadata": {},
     "output_type": "execute_result"
    }
   ],
   "source": [
    "nba.loc[nba['team_id'] == 'MNL', 'date_played'].max()"
   ],
   "metadata": {
    "collapsed": false
   }
  },
  {
   "cell_type": "code",
   "execution_count": 26,
   "outputs": [
    {
     "name": "stdout",
     "output_type": "stream",
     "text": [
      "<class 'pandas.core.frame.DataFrame'>\n",
      "RangeIndex: 126314 entries, 0 to 126313\n",
      "Data columns (total 24 columns):\n",
      " #   Column         Non-Null Count   Dtype         \n",
      "---  ------         --------------   -----         \n",
      " 0   gameorder      126314 non-null  int64         \n",
      " 1   game_id        126314 non-null  object        \n",
      " 2   lg_id          126314 non-null  object        \n",
      " 3   _iscopy        126314 non-null  int64         \n",
      " 4   year_id        126314 non-null  int64         \n",
      " 5   date_game      126314 non-null  object        \n",
      " 6   seasongame     126314 non-null  int64         \n",
      " 7   is_playoffs    126314 non-null  int64         \n",
      " 8   team_id        126314 non-null  object        \n",
      " 9   fran_id        126314 non-null  object        \n",
      " 10  pts            126314 non-null  int64         \n",
      " 11  elo_i          126314 non-null  float64       \n",
      " 12  elo_n          126314 non-null  float64       \n",
      " 13  win_equiv      126314 non-null  float64       \n",
      " 14  opp_id         126314 non-null  object        \n",
      " 15  opp_fran       126314 non-null  object        \n",
      " 16  opp_pts        126314 non-null  int64         \n",
      " 17  opp_elo_i      126314 non-null  float64       \n",
      " 18  opp_elo_n      126314 non-null  float64       \n",
      " 19  game_location  126314 non-null  object        \n",
      " 20  game_result    126314 non-null  object        \n",
      " 21  forecast       126314 non-null  float64       \n",
      " 22  notes          5424 non-null    object        \n",
      " 23  date_played    126314 non-null  datetime64[ns]\n",
      "dtypes: datetime64[ns](1), float64(6), int64(7), object(10)\n",
      "memory usage: 23.1+ MB\n"
     ]
    }
   ],
   "source": [
    "nba.info()"
   ],
   "metadata": {
    "collapsed": false
   }
  },
  {
   "cell_type": "code",
   "execution_count": 34,
   "outputs": [],
   "source": [
    "total_bos_points = nba.loc[nba['team_id'] == 'BOS', 'pts'].sum()"
   ],
   "metadata": {
    "collapsed": false
   }
  },
  {
   "cell_type": "code",
   "execution_count": 32,
   "outputs": [],
   "source": [
    "year_bos_played = len(nba.loc[nba['team_id'] == 'BOS', 'date_played'].apply(lambda v: v.year).unique())"
   ],
   "metadata": {
    "collapsed": false
   }
  },
  {
   "cell_type": "code",
   "execution_count": 35,
   "outputs": [
    {
     "data": {
      "text/plain": "8949.771428571428"
     },
     "execution_count": 35,
     "metadata": {},
     "output_type": "execute_result"
    }
   ],
   "source": [
    "total_bos_points / year_bos_played"
   ],
   "metadata": {
    "collapsed": false
   }
  },
  {
   "cell_type": "code",
   "execution_count": 10,
   "outputs": [
    {
     "data": {
      "text/plain": "False"
     },
     "execution_count": 10,
     "metadata": {},
     "output_type": "execute_result"
    }
   ],
   "source": [
    "'points' in nba.axes[1]"
   ],
   "metadata": {
    "collapsed": false
   }
  },
  {
   "cell_type": "code",
   "execution_count": 11,
   "outputs": [
    {
     "data": {
      "text/plain": "True"
     },
     "execution_count": 11,
     "metadata": {},
     "output_type": "execute_result"
    }
   ],
   "source": [
    "'pts' in nba.axes[1]"
   ],
   "metadata": {
    "collapsed": false
   }
  },
  {
   "cell_type": "code",
   "execution_count": 15,
   "outputs": [
    {
     "data": {
      "text/plain": "True"
     },
     "execution_count": 15,
     "metadata": {},
     "output_type": "execute_result"
    }
   ],
   "source": [
    "'pts' in nba.keys()"
   ],
   "metadata": {
    "collapsed": false
   }
  },
  {
   "cell_type": "code",
   "execution_count": null,
   "outputs": [],
   "source": [],
   "metadata": {
    "collapsed": false
   }
  }
 ],
 "metadata": {
  "kernelspec": {
   "display_name": "Python 3 (ipykernel)",
   "language": "python",
   "name": "python3"
  },
  "language_info": {
   "codemirror_mode": {
    "name": "ipython",
    "version": 3
   },
   "file_extension": ".py",
   "mimetype": "text/x-python",
   "name": "python",
   "nbconvert_exporter": "python",
   "pygments_lexer": "ipython3",
   "version": "3.9.13"
  }
 },
 "nbformat": 4,
 "nbformat_minor": 5
}

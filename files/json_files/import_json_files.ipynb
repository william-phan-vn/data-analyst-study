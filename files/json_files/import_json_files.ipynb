{
 "cells": [
  {
   "cell_type": "code",
   "execution_count": 1,
   "metadata": {
    "collapsed": true
   },
   "outputs": [],
   "source": [
    "import pandas as pd"
   ]
  },
  {
   "cell_type": "code",
   "execution_count": 5,
   "outputs": [
    {
     "data": {
      "text/plain": "      Loan ID String_ID    Product CustomerGender      Location    Region  \\\n0           1      id_1  Product B           Male    Location 2  Region 2   \n1           2      id_2  Product B           Male    Location 3  Region 3   \n2           3      id_3  Product C         Female    Location 5  Region 5   \n3           4      id_4  Product B           Male    Location 6  Region 1   \n4           5      id_5  Product D         Female    Location 7  Region 2   \n...       ...       ...        ...            ...           ...       ...   \n1038     1039   id_1039  Product B         Female   Location 39  Region 6   \n1039     1040   id_1040  Product B           Male   Location 50  Region 1   \n1040     1041   id_1041  Product B           Male   Location 23  Region 4   \n1041     1042   id_1042  Product C   NotSpecified   Location 52  Region 6   \n1042     1043   id_1043  Product B         Female  Location 142  Region 6   \n\n      TotalPrice   StartDate  Deposit  DailyRate  TotalDays  AmountPaid30  \\\n0          16600    7/4/2014     2000         40        365          3121   \n1          16600    1/2/2015     2000         40        365          3061   \n2          15600   12/8/2012     1000         40        365          2160   \n3          16600   2/20/2015     2000         40        365          3041   \n4          20250  10/28/2013     2000         50        365          3470   \n...          ...         ...      ...        ...        ...           ...   \n1038       16600  12/29/2014     2000         40        365          3401   \n1039       16600   3/28/2014     2000         40        365          4240   \n1040       16600   4/26/2014     2000         40        365          4201   \n1041       15600  10/25/2012     1000         40        365          2080   \n1042       16600   5/15/2015     2000         40        365          4601   \n\n      AmountPaid60  AmountPaid360     LoanStatus360  \n0             4241          13621            Active  \n1             4171          15041            Active  \n2             3280          15340              None  \n3             4241          15321            Active  \n4             4820          13720            Active  \n...            ...            ...               ...  \n1038          4601          16600  Finished Payment  \n1039          5440          16600  Finished Payment  \n1040          5001          16600  Finished Payment  \n1041          3320          15600  Finished Payment  \n1042          4601          16600  Finished Payment  \n\n[1043 rows x 15 columns]",
      "text/html": "<div>\n<style scoped>\n    .dataframe tbody tr th:only-of-type {\n        vertical-align: middle;\n    }\n\n    .dataframe tbody tr th {\n        vertical-align: top;\n    }\n\n    .dataframe thead th {\n        text-align: right;\n    }\n</style>\n<table border=\"1\" class=\"dataframe\">\n  <thead>\n    <tr style=\"text-align: right;\">\n      <th></th>\n      <th>Loan ID</th>\n      <th>String_ID</th>\n      <th>Product</th>\n      <th>CustomerGender</th>\n      <th>Location</th>\n      <th>Region</th>\n      <th>TotalPrice</th>\n      <th>StartDate</th>\n      <th>Deposit</th>\n      <th>DailyRate</th>\n      <th>TotalDays</th>\n      <th>AmountPaid30</th>\n      <th>AmountPaid60</th>\n      <th>AmountPaid360</th>\n      <th>LoanStatus360</th>\n    </tr>\n  </thead>\n  <tbody>\n    <tr>\n      <th>0</th>\n      <td>1</td>\n      <td>id_1</td>\n      <td>Product B</td>\n      <td>Male</td>\n      <td>Location 2</td>\n      <td>Region 2</td>\n      <td>16600</td>\n      <td>7/4/2014</td>\n      <td>2000</td>\n      <td>40</td>\n      <td>365</td>\n      <td>3121</td>\n      <td>4241</td>\n      <td>13621</td>\n      <td>Active</td>\n    </tr>\n    <tr>\n      <th>1</th>\n      <td>2</td>\n      <td>id_2</td>\n      <td>Product B</td>\n      <td>Male</td>\n      <td>Location 3</td>\n      <td>Region 3</td>\n      <td>16600</td>\n      <td>1/2/2015</td>\n      <td>2000</td>\n      <td>40</td>\n      <td>365</td>\n      <td>3061</td>\n      <td>4171</td>\n      <td>15041</td>\n      <td>Active</td>\n    </tr>\n    <tr>\n      <th>2</th>\n      <td>3</td>\n      <td>id_3</td>\n      <td>Product C</td>\n      <td>Female</td>\n      <td>Location 5</td>\n      <td>Region 5</td>\n      <td>15600</td>\n      <td>12/8/2012</td>\n      <td>1000</td>\n      <td>40</td>\n      <td>365</td>\n      <td>2160</td>\n      <td>3280</td>\n      <td>15340</td>\n      <td>None</td>\n    </tr>\n    <tr>\n      <th>3</th>\n      <td>4</td>\n      <td>id_4</td>\n      <td>Product B</td>\n      <td>Male</td>\n      <td>Location 6</td>\n      <td>Region 1</td>\n      <td>16600</td>\n      <td>2/20/2015</td>\n      <td>2000</td>\n      <td>40</td>\n      <td>365</td>\n      <td>3041</td>\n      <td>4241</td>\n      <td>15321</td>\n      <td>Active</td>\n    </tr>\n    <tr>\n      <th>4</th>\n      <td>5</td>\n      <td>id_5</td>\n      <td>Product D</td>\n      <td>Female</td>\n      <td>Location 7</td>\n      <td>Region 2</td>\n      <td>20250</td>\n      <td>10/28/2013</td>\n      <td>2000</td>\n      <td>50</td>\n      <td>365</td>\n      <td>3470</td>\n      <td>4820</td>\n      <td>13720</td>\n      <td>Active</td>\n    </tr>\n    <tr>\n      <th>...</th>\n      <td>...</td>\n      <td>...</td>\n      <td>...</td>\n      <td>...</td>\n      <td>...</td>\n      <td>...</td>\n      <td>...</td>\n      <td>...</td>\n      <td>...</td>\n      <td>...</td>\n      <td>...</td>\n      <td>...</td>\n      <td>...</td>\n      <td>...</td>\n      <td>...</td>\n    </tr>\n    <tr>\n      <th>1038</th>\n      <td>1039</td>\n      <td>id_1039</td>\n      <td>Product B</td>\n      <td>Female</td>\n      <td>Location 39</td>\n      <td>Region 6</td>\n      <td>16600</td>\n      <td>12/29/2014</td>\n      <td>2000</td>\n      <td>40</td>\n      <td>365</td>\n      <td>3401</td>\n      <td>4601</td>\n      <td>16600</td>\n      <td>Finished Payment</td>\n    </tr>\n    <tr>\n      <th>1039</th>\n      <td>1040</td>\n      <td>id_1040</td>\n      <td>Product B</td>\n      <td>Male</td>\n      <td>Location 50</td>\n      <td>Region 1</td>\n      <td>16600</td>\n      <td>3/28/2014</td>\n      <td>2000</td>\n      <td>40</td>\n      <td>365</td>\n      <td>4240</td>\n      <td>5440</td>\n      <td>16600</td>\n      <td>Finished Payment</td>\n    </tr>\n    <tr>\n      <th>1040</th>\n      <td>1041</td>\n      <td>id_1041</td>\n      <td>Product B</td>\n      <td>Male</td>\n      <td>Location 23</td>\n      <td>Region 4</td>\n      <td>16600</td>\n      <td>4/26/2014</td>\n      <td>2000</td>\n      <td>40</td>\n      <td>365</td>\n      <td>4201</td>\n      <td>5001</td>\n      <td>16600</td>\n      <td>Finished Payment</td>\n    </tr>\n    <tr>\n      <th>1041</th>\n      <td>1042</td>\n      <td>id_1042</td>\n      <td>Product C</td>\n      <td>NotSpecified</td>\n      <td>Location 52</td>\n      <td>Region 6</td>\n      <td>15600</td>\n      <td>10/25/2012</td>\n      <td>1000</td>\n      <td>40</td>\n      <td>365</td>\n      <td>2080</td>\n      <td>3320</td>\n      <td>15600</td>\n      <td>Finished Payment</td>\n    </tr>\n    <tr>\n      <th>1042</th>\n      <td>1043</td>\n      <td>id_1043</td>\n      <td>Product B</td>\n      <td>Female</td>\n      <td>Location 142</td>\n      <td>Region 6</td>\n      <td>16600</td>\n      <td>5/15/2015</td>\n      <td>2000</td>\n      <td>40</td>\n      <td>365</td>\n      <td>4601</td>\n      <td>4601</td>\n      <td>16600</td>\n      <td>Finished Payment</td>\n    </tr>\n  </tbody>\n</table>\n<p>1043 rows × 15 columns</p>\n</div>"
     },
     "execution_count": 5,
     "metadata": {},
     "output_type": "execute_result"
    }
   ],
   "source": [
    "pd.read_json('Lending-company.json')"
   ],
   "metadata": {
    "collapsed": false
   }
  },
  {
   "cell_type": "code",
   "execution_count": null,
   "outputs": [],
   "source": [
    "data = pd.read_json('Lending-company.json')"
   ],
   "metadata": {
    "collapsed": false
   }
  },
  {
   "cell_type": "code",
   "execution_count": 4,
   "outputs": [
    {
     "data": {
      "text/plain": "pandas.core.frame.DataFrame"
     },
     "execution_count": 4,
     "metadata": {},
     "output_type": "execute_result"
    }
   ],
   "source": [
    "type(data)"
   ],
   "metadata": {
    "collapsed": false
   }
  },
  {
   "cell_type": "code",
   "execution_count": null,
   "outputs": [],
   "source": [],
   "metadata": {
    "collapsed": false
   }
  }
 ],
 "metadata": {
  "kernelspec": {
   "display_name": "Python 3",
   "language": "python",
   "name": "python3"
  },
  "language_info": {
   "codemirror_mode": {
    "name": "ipython",
    "version": 2
   },
   "file_extension": ".py",
   "mimetype": "text/x-python",
   "name": "python",
   "nbconvert_exporter": "python",
   "pygments_lexer": "ipython2",
   "version": "2.7.6"
  }
 },
 "nbformat": 4,
 "nbformat_minor": 0
}
